{
  "cells": [
    {
      "cell_type": "markdown",
      "metadata": {
        "id": "Hn4TuWXZv0LD"
      },
      "source": [
        "Quadratic Sieve Implementation"
      ]
    },
    {
      "cell_type": "code",
      "execution_count": 5,
      "metadata": {
        "id": "Ad3fDG7DvvaI"
      },
      "outputs": [],
      "source": [
        "import math\n",
        "from itertools import product\n",
        "import numpy as np\n",
        "import time"
      ]
    },
    {
      "cell_type": "markdown",
      "metadata": {
        "id": "y18-Be82wcgW"
      },
      "source": [
        "Step 1: Select an integer *n* and a corresponding bound B."
      ]
    },
    {
      "cell_type": "code",
      "execution_count": 12,
      "metadata": {
        "colab": {
          "base_uri": "https://localhost:8080/"
        },
        "id": "dDaarUYjwRZe",
        "outputId": "7f9082cf-2261-4ddf-924b-bda01f6a3814"
      },
      "outputs": [
        {
          "output_type": "stream",
          "name": "stdout",
          "text": [
            "The bound B is: 871\n"
          ]
        }
      ],
      "source": [
        "import math\n",
        "\n",
        "n = 16921456439215439701\n",
        "# n = 338728169412940137585419303\n",
        "# n = 46839566299936919234246726809\n",
        "\n",
        "# Function to compute a small term going to 0 as n increases\n",
        "def little_o_of_1(n):\n",
        "    return 1 / math.log(n)\n",
        "\n",
        "# Compute the bound B\n",
        "temp = math.log(n) * math.log(math.log(n))\n",
        "B = int(math.exp(float(0.5 + little_o_of_1(n)) * math.sqrt(temp)))\n",
        "\n",
        "# Compute the smoothness step bound\n",
        "smoothness_step_bound = int(math.exp(float(1.0 + little_o_of_1(n)) * math.sqrt(temp)))\n",
        "\n",
        "# Print the bound B in a presentable format\n",
        "print(f\"The bound B is: {B}\")"
      ]
    },
    {
      "cell_type": "markdown",
      "metadata": {
        "id": "V0zaMTmEwxXw"
      },
      "source": [
        "Step 2: Get all primes up to B to form set S of primes.\n"
      ]
    },
    {
      "cell_type": "code",
      "execution_count": 14,
      "metadata": {
        "colab": {
          "base_uri": "https://localhost:8080/"
        },
        "id": "I4Q6-m70wIoI",
        "outputId": "d11e6664-fbfd-421f-dcc9-da2cae9b9e16"
      },
      "outputs": [
        {
          "output_type": "stream",
          "name": "stdout",
          "text": [
            "Number of primes found up to 871: 149\n",
            "Sample of primes (without 3): [2, 5, 7, 11, 13, 17, 19, 23, 29, 31]\n"
          ]
        }
      ],
      "source": [
        "def sieve_of_atkin(limit):\n",
        "    # Return an empty list if the limit is less than 2 (no primes)\n",
        "    if limit < 2:\n",
        "        return []\n",
        "\n",
        "    # Initialization of the sieve array with False values\n",
        "    sieve = [False] * (limit + 1)\n",
        "    sqrt_limit = int(limit ** 0.5)\n",
        "\n",
        "    # Step 1: Mark sieve[n] as True based on specific quadratic forms and conditions\n",
        "    for x in range(1, sqrt_limit + 1):\n",
        "        for y in range(1, sqrt_limit + 1):\n",
        "            # n = (4 * x^2) + (y^2) with n % 12 == 1 or n % 12 == 5\n",
        "            n = 4 * x * x + y * y\n",
        "            if n <= limit and (n % 12 == 1 or n % 12 == 5):\n",
        "                sieve[n] = not sieve[n]\n",
        "\n",
        "            # n = (3 * x^2) + (y^2) with n % 12 == 7\n",
        "            n = 3 * x * x + y * y\n",
        "            if n <= limit and n % 12 == 7:\n",
        "                sieve[n] = not sieve[n]\n",
        "\n",
        "            # n = (3 * x^2) - (y^2) with n % 12 == 11 and x > y\n",
        "            n = 3 * x * x - y * y\n",
        "            if x > y and n <= limit and n % 12 == 11:\n",
        "                sieve[n] = not sieve[n]\n",
        "\n",
        "    # Step 2: Mark all multiples of squares of primes as False\n",
        "    for a in range(5, sqrt_limit + 1):\n",
        "        if sieve[a]:\n",
        "            for b in range(a * a, limit + 1, a * a):\n",
        "                sieve[b] = False\n",
        "\n",
        "    # Step 3: Construct the list of primes\n",
        "    primes = [2]  # Include 2, the smallest prime number\n",
        "    primes += [i for i in range(3, limit + 1) if sieve[i]]\n",
        "\n",
        "    return primes\n",
        "\n",
        "# Generate primes up to the bound B\n",
        "S = sieve_of_atkin(B)\n",
        "\n",
        "# Print the number of primes found and a sample of the primes\n",
        "print(f\"Number of primes found up to {B}: {len(S)}\")\n",
        "print(f\"Sample of primes (without 3): {S[:10]}\")  # Print the first 10 primes as a sample"
      ]
    },
    {
      "cell_type": "markdown",
      "metadata": {
        "id": "S_FEVF61xp2k"
      },
      "source": [
        "Step 3: Find B-smooth squares.\n",
        "  - As part of the process, we create the intended matrix of prime powers for each B-smooth value, used to find x^2 equiv y^2."
      ]
    },
    {
      "cell_type": "code",
      "execution_count": 20,
      "metadata": {
        "id": "XDTJrExMy3J1",
        "colab": {
          "base_uri": "https://localhost:8080/"
        },
        "outputId": "39f067b4-9200-4e6b-d6c5-6aebc5b9c0c3"
      },
      "outputs": [
        {
          "output_type": "stream",
          "name": "stdout",
          "text": [
            "Target number of smooth numbers: 193\n",
            "Runtime: 3.30 seconds\n",
            "Number of B-smooth numbers found: 194\n",
            "Sample of power matrix (first row): [0, 0, 0, 0, 1, 0, 1, 0, 1, 0, 0, 2, 0, 1, 0, 0, 0, 0, 0, 0, 0, 0, 0, 0, 0, 0, 0, 0, 0, 0, 0, 0, 0, 0, 0, 0, 0, 0, 0, 0, 0, 0, 0, 0, 0, 0, 0, 0, 0, 0, 0, 0, 0, 0, 0, 0, 0, 0, 0, 0, 0, 0, 0, 0, 0, 0, 0, 0, 0, 0, 0, 0, 0, 0, 0, 0, 0, 0, 0, 0, 0, 0, 0, 0, 0, 0, 0, 0, 0, 0, 0, 0, 0, 0, 0, 0, 0, 0, 0, 0, 0, 0, 0, 0, 0, 0, 0, 0, 0, 0, 0, 0, 0, 0, 0, 0, 0, 0, 0, 0, 0, 0, 0, 0, 0, 0, 0, 0, 0, 0, 0, 0, 0, 0, 0, 0, 0, 0, 0, 0, 0, 0, 0, 0, 0, 0, 0, 0, 0]\n"
          ]
        }
      ],
      "source": [
        "import math\n",
        "import time\n",
        "\n",
        "def gen_x(n, p, r):\n",
        "    # Generate a list of candidate numbers based on the given parameters\n",
        "    sqrt_n = math.sqrt((1 + 2 * r) * n)\n",
        "    sqrt_2n = math.sqrt((2 + 2 * r) * n)\n",
        "    return [math.ceil(sqrt_n + i) for i in range(p + 1)] + \\\n",
        "           [math.ceil(sqrt_2n + i) for i in range(p + 1)]\n",
        "\n",
        "def find_b_smooths(n, S, B):\n",
        "    # Compute logarithms and initialize parameters\n",
        "    log_n = math.log(n)\n",
        "    primes = [p for p in S if p <= B]\n",
        "    log_primes = {p: math.log(p) for p in primes}\n",
        "    log_threshold = log_n - 0.5\n",
        "\n",
        "    smooth_set = set()  # Track unique B-smooth numbers\n",
        "    smooth_set_list = []\n",
        "    power_matrix = []\n",
        "    r = 0\n",
        "    target_smooth_count = 1.3 * len(primes)  # Estimate to ensure enough smooth numbers\n",
        "    print(f\"Target number of smooth numbers: {math.floor(target_smooth_count)}\")\n",
        "\n",
        "    # Search for B-smooth numbers until the target count is reached\n",
        "    while len(smooth_set_list) < target_smooth_count:\n",
        "        x_list = gen_x(n, 10, r)  # Generate potential smooth numbers\n",
        "        for x in x_list:\n",
        "            xsq = x**2 % n\n",
        "            log_xsq = math.log(xsq) if xsq > 1 else 0\n",
        "            powers = [0] * len(primes)\n",
        "            temp_xsq = xsq\n",
        "\n",
        "            if log_xsq > log_threshold:\n",
        "                continue  # Skip if too large to be B-smooth\n",
        "\n",
        "            for j, prime in enumerate(primes):\n",
        "                while temp_xsq % prime == 0:\n",
        "                    powers[j] += 1\n",
        "                    temp_xsq //= prime\n",
        "                    log_xsq -= log_primes[prime]\n",
        "                    if log_xsq < -0.5:\n",
        "                        break\n",
        "                if log_xsq < -0.5:\n",
        "                    break\n",
        "\n",
        "            if temp_xsq == 1 and x not in smooth_set:\n",
        "                power_matrix.append(powers)\n",
        "                smooth_set_list.append(x)\n",
        "                smooth_set.add(x)\n",
        "        r += 1  # Increment to search in the next iteration\n",
        "\n",
        "    return smooth_set_list, power_matrix\n",
        "\n",
        "# Track the start time\n",
        "start_time = time.time()\n",
        "\n",
        "# Find B-smooth numbers and their power matrix\n",
        "smooth_list, power_matrix = find_b_smooths(n, S, B)\n",
        "\n",
        "# Track the end time\n",
        "end_time = time.time()\n",
        "\n",
        "# Calculate and print runtime\n",
        "runtime = end_time - start_time\n",
        "print(f\"Runtime: {runtime:.2f} seconds\")\n",
        "\n",
        "# Print results: number of smooth numbers and a sample of the power matrix\n",
        "print(f\"Number of B-smooth numbers found: {len(smooth_list)}\")\n",
        "print(f\"First row of power matrix: {power_matrix[0]}\")"
      ]
    },
    {
      "cell_type": "markdown",
      "metadata": {
        "id": "bYpp8SetGGrK"
      },
      "source": [
        "Step 4: Row-reduce matrix and find a linear dependence."
      ]
    },
    {
      "cell_type": "code",
      "execution_count": 23,
      "metadata": {
        "colab": {
          "base_uri": "https://localhost:8080/"
        },
        "id": "Edw0f6On3G7g",
        "outputId": "b93348f7-4575-4b7c-87d5-794252f1fd84"
      },
      "outputs": [
        {
          "output_type": "stream",
          "name": "stdout",
          "text": [
            "x_final mod n: 1794158484905772962\n",
            "y_final mod n: 15127297954309666739\n",
            "x^2 mod n: 3984857010854416300\n",
            "y^2 mod n: 3984857010854416300\n",
            "Factors:\n",
            "GCD of (x_final - y_final) and n: 1\n",
            "x_final mod n: 6084102607933502758\n",
            "y_final mod n: 10837353831281936943\n",
            "x^2 mod n: 3670553858024071418\n",
            "y^2 mod n: 3670553858024071418\n",
            "Factors:\n",
            "GCD of (x_final - y_final) and n: 1\n",
            "x_final mod n: 12333850556098009966\n",
            "y_final mod n: 8692051646593151452\n",
            "x^2 mod n: 12382236686548130155\n",
            "y^2 mod n: 12382236686548130155\n",
            "Factors:\n",
            "GCD of (x_final - y_final) and n: 2860486313\n",
            "Non-trivial factor found: 2860486313\n",
            "Other factor: 5915587277\n"
          ]
        }
      ],
      "source": [
        "import numpy as np\n",
        "import math\n",
        "\n",
        "# Convert power_matrix to a numpy array and prepare for Gaussian elimination\n",
        "A = np.array(power_matrix)\n",
        "power_copy = A.copy()\n",
        "A = (np.transpose(A)) % 2\n",
        "\n",
        "def gaussian_elimination(mat):\n",
        "    # Perform Gaussian elimination on a matrix in GF(2)\n",
        "    num_rows, num_cols = mat.shape\n",
        "    row = 0\n",
        "    pivot_positions = []  # Track positions of pivots\n",
        "\n",
        "    for col in range(num_cols):\n",
        "        if row >= num_rows:\n",
        "            break\n",
        "        pivot_row = None\n",
        "        for r in range(row, num_rows):\n",
        "            if mat[r, col] == 1:\n",
        "                pivot_row = r\n",
        "                break\n",
        "        if pivot_row is not None:\n",
        "            # Swap rows\n",
        "            mat[[row, pivot_row]] = mat[[pivot_row, row]]\n",
        "            # Eliminate other rows\n",
        "            for r in range(num_rows):\n",
        "                if r != row and mat[r, col] == 1:\n",
        "                    mat[r] ^= mat[row]  # Update the matrix using XOR\n",
        "            pivot_positions.append((row, col))\n",
        "            row += 1\n",
        "    return mat[:row], pivot_positions\n",
        "\n",
        "def find_null_space(mat, pivot_positions):\n",
        "    # Compute the null space of the matrix\n",
        "    num_rows, num_cols = mat.shape\n",
        "    free_vars = [j for j in range(num_cols) if all(j != col for _, col in pivot_positions)]\n",
        "    null_space_basis = []\n",
        "\n",
        "    for free_var in free_vars:\n",
        "        vec = np.zeros(num_cols, dtype=int)\n",
        "        vec[free_var] = 1\n",
        "        for i, col in pivot_positions:\n",
        "            if i < num_rows:\n",
        "                vec[col] = mat[i, free_var]\n",
        "        null_space_basis.append(vec)\n",
        "    return null_space_basis\n",
        "\n",
        "# Perform Gaussian elimination to obtain the reduced row echelon form\n",
        "result, pivot_positions = gaussian_elimination(A)\n",
        "#print(\"Reduced row echelon form:\")\n",
        "#print(result)\n",
        "\n",
        "# Find the null space basis\n",
        "null_space_basis = find_null_space(result, pivot_positions)\n",
        "#print(\"Null space basis:\")\n",
        "#for vec in null_space_basis:\n",
        " #   print(vec)\n",
        "\n",
        "# Process the null space basis to find factors\n",
        "for v in null_space_basis:\n",
        "    power_matrix_subset = [x for x, check in zip(power_matrix, v) if check == 1]\n",
        "    x_list = [x for x, check in zip(smooth_list, v) if check == 1]\n",
        "    x_final = 1\n",
        "    for num in x_list:\n",
        "        x_final = (x_final * num) % n\n",
        "\n",
        "    y_final = 1\n",
        "    for col_index, col in enumerate(zip(*power_matrix_subset)):\n",
        "        column_sum = sum(col)\n",
        "        column_product = S[col_index] ** (column_sum // 2)\n",
        "        y_final = (y_final * column_product) % n\n",
        "\n",
        "    if x_final != y_final:\n",
        "        print(\"x_final mod n:\", x_final)\n",
        "        print(\"y_final mod n:\", y_final)\n",
        "        print(\"x^2 mod n:\", (x_final ** 2) % n)\n",
        "        print(\"y^2 mod n:\", (y_final ** 2) % n)\n",
        "        print(\"Factors:\")\n",
        "        factor = math.gcd(x_final - y_final, n)\n",
        "        print(\"GCD of (x_final - y_final) and n:\", factor)\n",
        "        if factor != 1 and factor != n:\n",
        "            other_factor = n // factor\n",
        "            print(\"Non-trivial factor found:\", factor)\n",
        "            print(\"Other factor:\", other_factor)\n",
        "            break\n",
        "else:\n",
        "    print(\"No non-trivial factors found.\")"
      ]
    }
  ],
  "metadata": {
    "colab": {
      "provenance": []
    },
    "kernelspec": {
      "display_name": "Python 3",
      "name": "python3"
    },
    "language_info": {
      "codemirror_mode": {
        "name": "ipython",
        "version": 3
      },
      "file_extension": ".py",
      "mimetype": "text/x-python",
      "name": "python",
      "nbconvert_exporter": "python",
      "pygments_lexer": "ipython3",
      "version": "3.10.8"
    }
  },
  "nbformat": 4,
  "nbformat_minor": 0
}